{
  "nbformat": 4,
  "nbformat_minor": 0,
  "metadata": {
    "colab": {
      "provenance": [],
      "authorship_tag": "ABX9TyN3x8GQxKBYtplomxoRUK7/",
      "include_colab_link": true
    },
    "kernelspec": {
      "name": "python3",
      "display_name": "Python 3"
    },
    "language_info": {
      "name": "python"
    },
    "widgets": {
      "application/vnd.jupyter.widget-state+json": {
        "0045107c95bb41ab97801f505c9d4968": {
          "model_module": "@jupyter-widgets/controls",
          "model_name": "DropdownModel",
          "model_module_version": "1.5.0",
          "state": {
            "_dom_classes": [],
            "_model_module": "@jupyter-widgets/controls",
            "_model_module_version": "1.5.0",
            "_model_name": "DropdownModel",
            "_options_labels": [
              "Iniciante",
              "Intermediário",
              "Avançado"
            ],
            "_view_count": null,
            "_view_module": "@jupyter-widgets/controls",
            "_view_module_version": "1.5.0",
            "_view_name": "DropdownView",
            "description": "Dificuldade:",
            "description_tooltip": null,
            "disabled": false,
            "index": 0,
            "layout": "IPY_MODEL_0baeaa4dfdb74361a3170cedbfe3e41c",
            "style": "IPY_MODEL_3be581e0df2c4a47b039433bc90330f7"
          }
        },
        "0baeaa4dfdb74361a3170cedbfe3e41c": {
          "model_module": "@jupyter-widgets/base",
          "model_name": "LayoutModel",
          "model_module_version": "1.2.0",
          "state": {
            "_model_module": "@jupyter-widgets/base",
            "_model_module_version": "1.2.0",
            "_model_name": "LayoutModel",
            "_view_count": null,
            "_view_module": "@jupyter-widgets/base",
            "_view_module_version": "1.2.0",
            "_view_name": "LayoutView",
            "align_content": null,
            "align_items": null,
            "align_self": null,
            "border": null,
            "bottom": null,
            "display": null,
            "flex": null,
            "flex_flow": null,
            "grid_area": null,
            "grid_auto_columns": null,
            "grid_auto_flow": null,
            "grid_auto_rows": null,
            "grid_column": null,
            "grid_gap": null,
            "grid_row": null,
            "grid_template_areas": null,
            "grid_template_columns": null,
            "grid_template_rows": null,
            "height": null,
            "justify_content": null,
            "justify_items": null,
            "left": null,
            "margin": null,
            "max_height": null,
            "max_width": null,
            "min_height": null,
            "min_width": null,
            "object_fit": null,
            "object_position": null,
            "order": null,
            "overflow": null,
            "overflow_x": null,
            "overflow_y": null,
            "padding": null,
            "right": null,
            "top": null,
            "visibility": null,
            "width": null
          }
        },
        "3be581e0df2c4a47b039433bc90330f7": {
          "model_module": "@jupyter-widgets/controls",
          "model_name": "DescriptionStyleModel",
          "model_module_version": "1.5.0",
          "state": {
            "_model_module": "@jupyter-widgets/controls",
            "_model_module_version": "1.5.0",
            "_model_name": "DescriptionStyleModel",
            "_view_count": null,
            "_view_module": "@jupyter-widgets/base",
            "_view_module_version": "1.2.0",
            "_view_name": "StyleView",
            "description_width": ""
          }
        },
        "6c4ce18451a64b8eb1180cd97a22b2ff": {
          "model_module": "@jupyter-widgets/controls",
          "model_name": "DropdownModel",
          "model_module_version": "1.5.0",
          "state": {
            "_dom_classes": [],
            "_model_module": "@jupyter-widgets/controls",
            "_model_module_version": "1.5.0",
            "_model_name": "DropdownModel",
            "_options_labels": [
              "Cinemática",
              "Ondulatória",
              "Dinâmica"
            ],
            "_view_count": null,
            "_view_module": "@jupyter-widgets/controls",
            "_view_module_version": "1.5.0",
            "_view_name": "DropdownView",
            "description": "Tópico:",
            "description_tooltip": null,
            "disabled": false,
            "index": 0,
            "layout": "IPY_MODEL_ba56bc85ed524d67992d17ccb719420c",
            "style": "IPY_MODEL_402ee6c15227403d9ee20e9f8ebf3a6b"
          }
        },
        "ba56bc85ed524d67992d17ccb719420c": {
          "model_module": "@jupyter-widgets/base",
          "model_name": "LayoutModel",
          "model_module_version": "1.2.0",
          "state": {
            "_model_module": "@jupyter-widgets/base",
            "_model_module_version": "1.2.0",
            "_model_name": "LayoutModel",
            "_view_count": null,
            "_view_module": "@jupyter-widgets/base",
            "_view_module_version": "1.2.0",
            "_view_name": "LayoutView",
            "align_content": null,
            "align_items": null,
            "align_self": null,
            "border": null,
            "bottom": null,
            "display": null,
            "flex": null,
            "flex_flow": null,
            "grid_area": null,
            "grid_auto_columns": null,
            "grid_auto_flow": null,
            "grid_auto_rows": null,
            "grid_column": null,
            "grid_gap": null,
            "grid_row": null,
            "grid_template_areas": null,
            "grid_template_columns": null,
            "grid_template_rows": null,
            "height": null,
            "justify_content": null,
            "justify_items": null,
            "left": null,
            "margin": null,
            "max_height": null,
            "max_width": null,
            "min_height": null,
            "min_width": null,
            "object_fit": null,
            "object_position": null,
            "order": null,
            "overflow": null,
            "overflow_x": null,
            "overflow_y": null,
            "padding": null,
            "right": null,
            "top": null,
            "visibility": null,
            "width": null
          }
        },
        "402ee6c15227403d9ee20e9f8ebf3a6b": {
          "model_module": "@jupyter-widgets/controls",
          "model_name": "DescriptionStyleModel",
          "model_module_version": "1.5.0",
          "state": {
            "_model_module": "@jupyter-widgets/controls",
            "_model_module_version": "1.5.0",
            "_model_name": "DescriptionStyleModel",
            "_view_count": null,
            "_view_module": "@jupyter-widgets/base",
            "_view_module_version": "1.2.0",
            "_view_name": "StyleView",
            "description_width": ""
          }
        },
        "4e3fc58d7c5c44d39a4b1c634fce2ef2": {
          "model_module": "@jupyter-widgets/controls",
          "model_name": "ButtonModel",
          "model_module_version": "1.5.0",
          "state": {
            "_dom_classes": [],
            "_model_module": "@jupyter-widgets/controls",
            "_model_module_version": "1.5.0",
            "_model_name": "ButtonModel",
            "_view_count": null,
            "_view_module": "@jupyter-widgets/controls",
            "_view_module_version": "1.5.0",
            "_view_name": "ButtonView",
            "button_style": "",
            "description": "Gerar Questão",
            "disabled": false,
            "icon": "",
            "layout": "IPY_MODEL_ad72c53e1b014f2299af1144f243d49d",
            "style": "IPY_MODEL_41559dfb566240e49fc232fe593d3843",
            "tooltip": ""
          }
        },
        "ad72c53e1b014f2299af1144f243d49d": {
          "model_module": "@jupyter-widgets/base",
          "model_name": "LayoutModel",
          "model_module_version": "1.2.0",
          "state": {
            "_model_module": "@jupyter-widgets/base",
            "_model_module_version": "1.2.0",
            "_model_name": "LayoutModel",
            "_view_count": null,
            "_view_module": "@jupyter-widgets/base",
            "_view_module_version": "1.2.0",
            "_view_name": "LayoutView",
            "align_content": null,
            "align_items": null,
            "align_self": null,
            "border": null,
            "bottom": null,
            "display": null,
            "flex": null,
            "flex_flow": null,
            "grid_area": null,
            "grid_auto_columns": null,
            "grid_auto_flow": null,
            "grid_auto_rows": null,
            "grid_column": null,
            "grid_gap": null,
            "grid_row": null,
            "grid_template_areas": null,
            "grid_template_columns": null,
            "grid_template_rows": null,
            "height": null,
            "justify_content": null,
            "justify_items": null,
            "left": null,
            "margin": null,
            "max_height": null,
            "max_width": null,
            "min_height": null,
            "min_width": null,
            "object_fit": null,
            "object_position": null,
            "order": null,
            "overflow": null,
            "overflow_x": null,
            "overflow_y": null,
            "padding": null,
            "right": null,
            "top": null,
            "visibility": null,
            "width": null
          }
        },
        "41559dfb566240e49fc232fe593d3843": {
          "model_module": "@jupyter-widgets/controls",
          "model_name": "ButtonStyleModel",
          "model_module_version": "1.5.0",
          "state": {
            "_model_module": "@jupyter-widgets/controls",
            "_model_module_version": "1.5.0",
            "_model_name": "ButtonStyleModel",
            "_view_count": null,
            "_view_module": "@jupyter-widgets/base",
            "_view_module_version": "1.2.0",
            "_view_name": "StyleView",
            "button_color": null,
            "font_weight": ""
          }
        },
        "42f8e00c6fa04b33a97f1c48f53d41c1": {
          "model_module": "@jupyter-widgets/output",
          "model_name": "OutputModel",
          "model_module_version": "1.0.0",
          "state": {
            "_dom_classes": [],
            "_model_module": "@jupyter-widgets/output",
            "_model_module_version": "1.0.0",
            "_model_name": "OutputModel",
            "_view_count": null,
            "_view_module": "@jupyter-widgets/output",
            "_view_module_version": "1.0.0",
            "_view_name": "OutputView",
            "layout": "IPY_MODEL_6baa08592d4e4405b7213aad508cd480",
            "msg_id": "",
            "outputs": [
              {
                "output_type": "display_data",
                "data": {
                  "text/plain": "<IPython.core.display.HTML object>",
                  "text/html": "Gerando questão..."
                },
                "metadata": {}
              },
              {
                "output_type": "display_data",
                "data": {
                  "text/plain": "<IPython.core.display.HTML object>",
                  "text/html": "Enunciado:<br>Um carro se move em uma estrada reta com velocidade constante de 72 km/h. Qual a distância, em metros, percorrida pelo carro em 10 segundos?"
                },
                "metadata": {}
              },
              {
                "output_type": "display_data",
                "data": {
                  "text/plain": "<IPython.core.display.HTML object>",
                  "text/html": "A) 72 metros"
                },
                "metadata": {}
              },
              {
                "output_type": "display_data",
                "data": {
                  "text/plain": "<IPython.core.display.HTML object>",
                  "text/html": "B) 200 metros"
                },
                "metadata": {}
              },
              {
                "output_type": "display_data",
                "data": {
                  "text/plain": "<IPython.core.display.HTML object>",
                  "text/html": "C) 720 metros"
                },
                "metadata": {}
              },
              {
                "output_type": "display_data",
                "data": {
                  "text/plain": "<IPython.core.display.HTML object>",
                  "text/html": "D) 20 metros"
                },
                "metadata": {}
              },
              {
                "output_type": "display_data",
                "data": {
                  "text/plain": "Button(description='Revelar Resposta', style=ButtonStyle())",
                  "application/vnd.jupyter.widget-view+json": {
                    "version_major": 2,
                    "version_minor": 0,
                    "model_id": "82fcce1fb2734e8c88d0c6ad80a6c948"
                  }
                },
                "metadata": {}
              },
              {
                "output_type": "display_data",
                "data": {
                  "text/plain": "<IPython.core.display.HTML object>",
                  "text/html": "Resposta Correta:<br>B"
                },
                "metadata": {}
              },
              {
                "output_type": "display_data",
                "data": {
                  "text/plain": "Button(description='Mostrar Resolução', style=ButtonStyle())",
                  "application/vnd.jupyter.widget-view+json": {
                    "version_major": 2,
                    "version_minor": 0,
                    "model_id": "4a1278745c324eefbf3bdf3531b51801"
                  }
                },
                "metadata": {}
              },
              {
                "output_type": "display_data",
                "data": {
                  "text/plain": "<IPython.core.display.HTML object>",
                  "text/html": "Gerando resolução..."
                },
                "metadata": {}
              },
              {
                "output_type": "display_data",
                "data": {
                  "text/plain": "<IPython.core.display.Markdown object>",
                  "text/markdown": "> Resolução:\n> ## Resolução Detalhada: Distância Percorrida por um Carro\n> \n> **1. Compreensão do Problema**\n> \n> O problema descreve um carro se movendo com velocidade constante e pede para calcular a distância que ele percorre em um determinado intervalo de tempo.  Trata-se de um problema de movimento uniforme (velocidade constante).\n> \n> **2. Identificação de Dados**\n> \n> * Velocidade do carro:  $v = 72 \\text{ km/h}$\n> * Tempo de percurso: $t = 10 \\text{ s}$\n> * Incógnita: Distância percorrida: $d = ?$ (em metros)\n> \n> **3. Fórmula Utilizada**\n> \n> No movimento uniforme, a relação entre distância, velocidade e tempo é dada por:\n> \n> $d = v \\cdot t$\n> \n> Onde:\n> \n> * $d$ é a distância percorrida\n> * $v$ é a velocidade\n> * $t$ é o tempo\n> \n> **4. Passo a Passo da Solução**\n> \n> 1. **Converter a velocidade de km/h para m/s:**\n> \n>    Para usar a fórmula diretamente, precisamos que a velocidade e o tempo estejam em unidades consistentes (metros e segundos, respectivamente). Para converter km/h para m/s, dividimos por 3,6:\n> \n>    $v = \\frac{72 \\text{ km/h}}{3,6} = 20 \\text{ m/s}$\n> \n> 2. **Aplicar a fórmula do movimento uniforme:**\n> \n>    Agora, substituímos os valores na fórmula:\n> \n>    $d = v \\cdot t = 20 \\text{ m/s} \\cdot 10 \\text{ s}$\n> \n> 3. **Calcular a distância:**\n> \n>    $d = 200 \\text{ m}$\n> \n> **5. Resposta Final**\n> \n> A distância percorrida pelo carro em 10 segundos é de 200 metros. Portanto, a resposta correta é a opção B.\n"
                },
                "metadata": {}
              }
            ]
          }
        },
        "6baa08592d4e4405b7213aad508cd480": {
          "model_module": "@jupyter-widgets/base",
          "model_name": "LayoutModel",
          "model_module_version": "1.2.0",
          "state": {
            "_model_module": "@jupyter-widgets/base",
            "_model_module_version": "1.2.0",
            "_model_name": "LayoutModel",
            "_view_count": null,
            "_view_module": "@jupyter-widgets/base",
            "_view_module_version": "1.2.0",
            "_view_name": "LayoutView",
            "align_content": null,
            "align_items": null,
            "align_self": null,
            "border": null,
            "bottom": null,
            "display": null,
            "flex": null,
            "flex_flow": null,
            "grid_area": null,
            "grid_auto_columns": null,
            "grid_auto_flow": null,
            "grid_auto_rows": null,
            "grid_column": null,
            "grid_gap": null,
            "grid_row": null,
            "grid_template_areas": null,
            "grid_template_columns": null,
            "grid_template_rows": null,
            "height": null,
            "justify_content": null,
            "justify_items": null,
            "left": null,
            "margin": null,
            "max_height": null,
            "max_width": null,
            "min_height": null,
            "min_width": null,
            "object_fit": null,
            "object_position": null,
            "order": null,
            "overflow": null,
            "overflow_x": null,
            "overflow_y": null,
            "padding": null,
            "right": null,
            "top": null,
            "visibility": null,
            "width": null
          }
        },
        "82fcce1fb2734e8c88d0c6ad80a6c948": {
          "model_module": "@jupyter-widgets/controls",
          "model_name": "ButtonModel",
          "model_module_version": "1.5.0",
          "state": {
            "_dom_classes": [],
            "_model_module": "@jupyter-widgets/controls",
            "_model_module_version": "1.5.0",
            "_model_name": "ButtonModel",
            "_view_count": null,
            "_view_module": "@jupyter-widgets/controls",
            "_view_module_version": "1.5.0",
            "_view_name": "ButtonView",
            "button_style": "",
            "description": "Revelar Resposta",
            "disabled": false,
            "icon": "",
            "layout": "IPY_MODEL_3b7f77805a134e6fb0084f8357766f2a",
            "style": "IPY_MODEL_887d620f142c4f9cad10c2d3807258c9",
            "tooltip": ""
          }
        },
        "3b7f77805a134e6fb0084f8357766f2a": {
          "model_module": "@jupyter-widgets/base",
          "model_name": "LayoutModel",
          "model_module_version": "1.2.0",
          "state": {
            "_model_module": "@jupyter-widgets/base",
            "_model_module_version": "1.2.0",
            "_model_name": "LayoutModel",
            "_view_count": null,
            "_view_module": "@jupyter-widgets/base",
            "_view_module_version": "1.2.0",
            "_view_name": "LayoutView",
            "align_content": null,
            "align_items": null,
            "align_self": null,
            "border": null,
            "bottom": null,
            "display": null,
            "flex": null,
            "flex_flow": null,
            "grid_area": null,
            "grid_auto_columns": null,
            "grid_auto_flow": null,
            "grid_auto_rows": null,
            "grid_column": null,
            "grid_gap": null,
            "grid_row": null,
            "grid_template_areas": null,
            "grid_template_columns": null,
            "grid_template_rows": null,
            "height": null,
            "justify_content": null,
            "justify_items": null,
            "left": null,
            "margin": null,
            "max_height": null,
            "max_width": null,
            "min_height": null,
            "min_width": null,
            "object_fit": null,
            "object_position": null,
            "order": null,
            "overflow": null,
            "overflow_x": null,
            "overflow_y": null,
            "padding": null,
            "right": null,
            "top": null,
            "visibility": null,
            "width": null
          }
        },
        "887d620f142c4f9cad10c2d3807258c9": {
          "model_module": "@jupyter-widgets/controls",
          "model_name": "ButtonStyleModel",
          "model_module_version": "1.5.0",
          "state": {
            "_model_module": "@jupyter-widgets/controls",
            "_model_module_version": "1.5.0",
            "_model_name": "ButtonStyleModel",
            "_view_count": null,
            "_view_module": "@jupyter-widgets/base",
            "_view_module_version": "1.2.0",
            "_view_name": "StyleView",
            "button_color": null,
            "font_weight": ""
          }
        },
        "4a1278745c324eefbf3bdf3531b51801": {
          "model_module": "@jupyter-widgets/controls",
          "model_name": "ButtonModel",
          "model_module_version": "1.5.0",
          "state": {
            "_dom_classes": [],
            "_model_module": "@jupyter-widgets/controls",
            "_model_module_version": "1.5.0",
            "_model_name": "ButtonModel",
            "_view_count": null,
            "_view_module": "@jupyter-widgets/controls",
            "_view_module_version": "1.5.0",
            "_view_name": "ButtonView",
            "button_style": "",
            "description": "Mostrar Resolução",
            "disabled": false,
            "icon": "",
            "layout": "IPY_MODEL_e010366181a34a43bd05080ac4b5dcaf",
            "style": "IPY_MODEL_a9ed60c1d6da4e9188cb200ac48bc89a",
            "tooltip": ""
          }
        },
        "e010366181a34a43bd05080ac4b5dcaf": {
          "model_module": "@jupyter-widgets/base",
          "model_name": "LayoutModel",
          "model_module_version": "1.2.0",
          "state": {
            "_model_module": "@jupyter-widgets/base",
            "_model_module_version": "1.2.0",
            "_model_name": "LayoutModel",
            "_view_count": null,
            "_view_module": "@jupyter-widgets/base",
            "_view_module_version": "1.2.0",
            "_view_name": "LayoutView",
            "align_content": null,
            "align_items": null,
            "align_self": null,
            "border": null,
            "bottom": null,
            "display": null,
            "flex": null,
            "flex_flow": null,
            "grid_area": null,
            "grid_auto_columns": null,
            "grid_auto_flow": null,
            "grid_auto_rows": null,
            "grid_column": null,
            "grid_gap": null,
            "grid_row": null,
            "grid_template_areas": null,
            "grid_template_columns": null,
            "grid_template_rows": null,
            "height": null,
            "justify_content": null,
            "justify_items": null,
            "left": null,
            "margin": null,
            "max_height": null,
            "max_width": null,
            "min_height": null,
            "min_width": null,
            "object_fit": null,
            "object_position": null,
            "order": null,
            "overflow": null,
            "overflow_x": null,
            "overflow_y": null,
            "padding": null,
            "right": null,
            "top": null,
            "visibility": null,
            "width": null
          }
        },
        "a9ed60c1d6da4e9188cb200ac48bc89a": {
          "model_module": "@jupyter-widgets/controls",
          "model_name": "ButtonStyleModel",
          "model_module_version": "1.5.0",
          "state": {
            "_model_module": "@jupyter-widgets/controls",
            "_model_module_version": "1.5.0",
            "_model_name": "ButtonStyleModel",
            "_view_count": null,
            "_view_module": "@jupyter-widgets/base",
            "_view_module_version": "1.2.0",
            "_view_name": "StyleView",
            "button_color": null,
            "font_weight": ""
          }
        }
      }
    }
  },
  "cells": [
    {
      "cell_type": "markdown",
      "metadata": {
        "id": "view-in-github",
        "colab_type": "text"
      },
      "source": [
        "<a href=\"https://colab.research.google.com/github/igorlnunes/questoes_fisica/blob/main/Gerador_de_QuestoesDeFisica.ipynb\" target=\"_parent\"><img src=\"https://colab.research.google.com/assets/colab-badge.svg\" alt=\"Open In Colab\"/></a>"
      ]
    },
    {
      "cell_type": "code",
      "source": [
        "# Configura a API Key do Google Gemini\n",
        "import os\n",
        "from google.colab import userdata\n",
        "\n",
        "os.environ[\"GOOGLE_API_KEY\"] = userdata.get('GOOGLE_API_KEY')\n",
        "\n",
        "# Importa as bibliotecas do SDK\n",
        "from google.genai import types  # Para criar conteúdos (Content e Part)\n",
        "from datetime import date\n",
        "import textwrap  # Para formatar melhor a saída de texto\n",
        "from IPython.display import display, Markdown, HTML, clear_output  # Para exibir texto formatado no Colab\n",
        "import requests  # Para fazer requisições HTTP\n",
        "import warnings\n",
        "import ipywidgets as widgets\n",
        "import google.generativeai as genai\n",
        "import json\n",
        "import re\n",
        "import asyncio\n",
        "\n",
        "warnings.filterwarnings(\"ignore\")"
      ],
      "metadata": {
        "id": "Bdezb8aNlevX"
      },
      "execution_count": 8,
      "outputs": []
    },
    {
      "cell_type": "code",
      "source": [
        "# Função auxiliar para exibir texto formatado em Markdown no Colab\n",
        "def to_markdown(text):\n",
        "    text = text.replace('•', '  *')\n",
        "    return Markdown(textwrap.indent(text, '> ', predicate=lambda _: True))\n",
        "\n",
        "# Exibe string Markdown e renderiza MathJax.\n",
        "def display_markdown_with_mathjax(markdown_string: str):\n",
        "    display(HTML(markdown_string))"
      ],
      "metadata": {
        "id": "l6tHklwf0tt8"
      },
      "execution_count": 9,
      "outputs": []
    },
    {
      "cell_type": "code",
      "source": [
        "# Gera o enunciado, alternativas e a resposta correta para uma questão de física.\n",
        "def gerar_enunciado_alternativas_resposta(topico: str, dificuldade: str) -> dict:\n",
        "    model = genai.GenerativeModel(\"gemini-2.0-flash\")\n",
        "    prompt = f\"\"\"\n",
        "    Gere uma questão de física de nível {dificuldade} sobre o tópico de {topico} para estudantes do ensino médio.\n",
        "    A questão deve ser no formato de múltipla escolha com exatamente 4 opções (A, B, C, D).\n",
        "    Indique claramente a resposta correta ao final da geração.\n",
        "\n",
        "    Formato de saída desejado:\n",
        "    {{\n",
        "    \"enunciado\": \"...\",\n",
        "    \"opcoes\": [\"A) ...\", \"B) ...\", \"C) ...\", \"D) ...\"],\n",
        "    \"resposta_correta\": \"...\"\n",
        "    }}\n",
        "    \"\"\"\n",
        "    try:\n",
        "        response = model.generate_content(prompt)\n",
        "        json_string = response.text.strip()\n",
        "        json_string = re.sub(r'^\\s*```json\\s*', '', json_string, flags=re.MULTILINE)\n",
        "        json_string = re.sub(r'^\\s*```\\s*', '', json_string, flags=re.MULTILINE)\n",
        "        questao_info = json.loads(json_string)\n",
        "        return questao_info\n",
        "    except json.JSONDecodeError as e:\n",
        "        print(f\"Erro ao decodificar JSON da resposta: {e}\")\n",
        "        print(f\"Resposta bruta do Gemini: {response.text}\")\n",
        "        return None\n",
        "    except Exception as e:\n",
        "        print(f\"Erro ao gerar o enunciado, alternativas e resposta: {e}\")\n",
        "        return None\n",
        "\n",
        "# Gera a resolução passo a passo para uma questão de física.\n",
        "def gerar_resolucao_estruturada(enunciado: str, resposta_correta: str) -> str:\n",
        "    model = genai.GenerativeModel(\"gemini-2.0-flash\")\n",
        "    prompt = f\"\"\"\n",
        "    Gere uma resolução detalhada e passo a passo para a seguinte questão de física do ensino médio brasileiro.\n",
        "    Organize a resolução em seções claras com títulos como: \"1. Compreensão do Problema\", \"2. Identificação de Dados\", \"3. Fórmula Utilizada\", \"4. Passo a Passo da Solução\", \"5. Resposta Final\".\n",
        "    Seja conciso em cada seção, mas inclua todos os passos essenciais do raciocínio e utilize notação LaTeX para fórmulas e cálculos.\n",
        "\n",
        "    {enunciado}\n",
        "\n",
        "    A resposta correta para esta questão é a opção {resposta_correta}.\n",
        "    \"\"\"\n",
        "    try:\n",
        "        response = model.generate_content(prompt)\n",
        "        resolucao = response.text\n",
        "        resolucao = resolucao.replace(r'\\(', r'$').replace(r'\\)', r'$').replace(r'\\[', r'$$').replace(r'\\]', r'$$')\n",
        "        return resolucao\n",
        "    except Exception as e:\n",
        "        print(f\"Erro ao gerar a resolução: {e}\")\n",
        "        return None"
      ],
      "metadata": {
        "id": "ajdqGpKJ0ndj"
      },
      "execution_count": 10,
      "outputs": []
    },
    {
      "cell_type": "code",
      "execution_count": 11,
      "metadata": {
        "id": "j6ljqrzulH0E"
      },
      "outputs": [],
      "source": [
        "# Widgets de interação\n",
        "dificuldade_dropdown = widgets.Dropdown(options=['Iniciante', 'Intermediário', 'Avançado'], description='Dificuldade:')\n",
        "topico_dropdown = widgets.Dropdown(options=['Cinemática', 'Ondulatória', 'Dinâmica'], description='Tópico:')\n",
        "gerar_questao_button = widgets.Button(description=\"Gerar Questão\")\n",
        "resposta_button = widgets.Button(description=\"Revelar Resposta\")\n",
        "resolucao_button = widgets.Button(description=\"Mostrar Resolução\")\n",
        "output = widgets.Output()\n",
        "\n",
        "# Lida com o clique do botão de gerar questão.\n",
        "def on_gerar_questao_button_click(b):\n",
        "    clear_output(wait=True)\n",
        "    with output:\n",
        "        display(HTML(\"Gerando questão...\"))\n",
        "        questao = gerar_enunciado_alternativas_resposta(topico_dropdown.value, dificuldade_dropdown.value)\n",
        "        if questao:\n",
        "            global questao_data\n",
        "            questao_data = questao\n",
        "            display_markdown_with_mathjax(f\"Enunciado:<br>{questao['enunciado']}\")\n",
        "            for opcao in questao['opcoes']:\n",
        "                display_markdown_with_mathjax(f\"{opcao}\")\n",
        "            display(resposta_button)\n",
        "        else:\n",
        "            display(HTML(\"Erro ao gerar a questão.\"))\n",
        "\n",
        "# Lida com o clique do botão de revelar resposta.\n",
        "def on_resposta_button_click(b):\n",
        "    clear_output(wait=True)\n",
        "    with output:\n",
        "        display_markdown_with_mathjax(f\"Resposta Correta:<br>{questao_data['resposta_correta']}\")\n",
        "        display(resolucao_button)\n",
        "\n",
        "# Lida com o clique do botão de mostrar resolução.\n",
        "def on_resolucao_button_click(b):\n",
        "    clear_output(wait=True)\n",
        "    with output:\n",
        "        display(HTML(\"Gerando resolução...\"))\n",
        "        resolucao = gerar_resolucao_estruturada(questao_data['enunciado'], questao_data['resposta_correta'])\n",
        "        if resolucao:\n",
        "            display(to_markdown(f\"Resolução:\\n{resolucao}\"))\n",
        "        else:\n",
        "            display(HTML(\"Erro ao gerar a resolução.\"))\n",
        "\n",
        "# Associa os botões às funções de clique\n",
        "gerar_questao_button.on_click(on_gerar_questao_button_click)\n",
        "resposta_button.on_click(on_resposta_button_click)\n",
        "resolucao_button.on_click(on_resolucao_button_click)"
      ]
    },
    {
      "cell_type": "code",
      "source": [
        "# Exibe os widgets de interação\n",
        "display(dificuldade_dropdown)\n",
        "display(topico_dropdown)\n",
        "display(gerar_questao_button)\n",
        "display(output)"
      ],
      "metadata": {
        "colab": {
          "base_uri": "https://localhost:8080/",
          "height": 1000,
          "referenced_widgets": [
            "0045107c95bb41ab97801f505c9d4968",
            "0baeaa4dfdb74361a3170cedbfe3e41c",
            "3be581e0df2c4a47b039433bc90330f7",
            "6c4ce18451a64b8eb1180cd97a22b2ff",
            "ba56bc85ed524d67992d17ccb719420c",
            "402ee6c15227403d9ee20e9f8ebf3a6b",
            "4e3fc58d7c5c44d39a4b1c634fce2ef2",
            "ad72c53e1b014f2299af1144f243d49d",
            "41559dfb566240e49fc232fe593d3843",
            "42f8e00c6fa04b33a97f1c48f53d41c1",
            "6baa08592d4e4405b7213aad508cd480",
            "82fcce1fb2734e8c88d0c6ad80a6c948",
            "3b7f77805a134e6fb0084f8357766f2a",
            "887d620f142c4f9cad10c2d3807258c9",
            "4a1278745c324eefbf3bdf3531b51801",
            "e010366181a34a43bd05080ac4b5dcaf",
            "a9ed60c1d6da4e9188cb200ac48bc89a"
          ]
        },
        "id": "SDJU6Q89Rqm5",
        "outputId": "4e8534c2-ec73-4e8b-d6a1-90f503b6110e"
      },
      "execution_count": 12,
      "outputs": [
        {
          "output_type": "display_data",
          "data": {
            "text/plain": [
              "Dropdown(description='Dificuldade:', options=('Iniciante', 'Intermediário', 'Avançado'), value='Iniciante')"
            ],
            "application/vnd.jupyter.widget-view+json": {
              "version_major": 2,
              "version_minor": 0,
              "model_id": "0045107c95bb41ab97801f505c9d4968"
            }
          },
          "metadata": {}
        },
        {
          "output_type": "display_data",
          "data": {
            "text/plain": [
              "Dropdown(description='Tópico:', options=('Cinemática', 'Ondulatória', 'Dinâmica'), value='Cinemática')"
            ],
            "application/vnd.jupyter.widget-view+json": {
              "version_major": 2,
              "version_minor": 0,
              "model_id": "6c4ce18451a64b8eb1180cd97a22b2ff"
            }
          },
          "metadata": {}
        },
        {
          "output_type": "display_data",
          "data": {
            "text/plain": [
              "Button(description='Gerar Questão', style=ButtonStyle())"
            ],
            "application/vnd.jupyter.widget-view+json": {
              "version_major": 2,
              "version_minor": 0,
              "model_id": "4e3fc58d7c5c44d39a4b1c634fce2ef2"
            }
          },
          "metadata": {}
        },
        {
          "output_type": "display_data",
          "data": {
            "text/plain": [
              "Output()"
            ],
            "application/vnd.jupyter.widget-view+json": {
              "version_major": 2,
              "version_minor": 0,
              "model_id": "42f8e00c6fa04b33a97f1c48f53d41c1"
            }
          },
          "metadata": {}
        }
      ]
    }
  ]
}