{
  "nbformat": 4,
  "nbformat_minor": 0,
  "metadata": {
    "colab": {
      "provenance": [],
      "authorship_tag": "ABX9TyPD79ix3AFOWFt9Oah5k0Ke",
      "include_colab_link": true
    },
    "kernelspec": {
      "name": "python3",
      "display_name": "Python 3"
    },
    "language_info": {
      "name": "python"
    }
  },
  "cells": [
    {
      "cell_type": "markdown",
      "metadata": {
        "id": "view-in-github",
        "colab_type": "text"
      },
      "source": [
        "<a href=\"https://colab.research.google.com/github/igorlnunes/questoes_fisica/blob/main/Gerador_de_QuestoesDeFisica.ipynb\" target=\"_parent\"><img src=\"https://colab.research.google.com/assets/colab-badge.svg\" alt=\"Open In Colab\"/></a>"
      ]
    },
    {
      "cell_type": "code",
      "source": [
        "# Configura a API Key do Google Gemini\n",
        "import os\n",
        "from google.colab import userdata\n",
        "\n",
        "os.environ[\"GOOGLE_API_KEY\"] = userdata.get('GOOGLE_API_KEY')"
      ],
      "metadata": {
        "id": "Bdezb8aNlevX"
      },
      "execution_count": 1,
      "outputs": []
    },
    {
      "cell_type": "code",
      "source": [
        "# importa as bibliotecas do adk\n",
        "from google.genai import types  # Para criar conteúdos (Content e Part)\n",
        "from datetime import date\n",
        "import textwrap # Para formatar melhor a saída de texto\n",
        "from IPython.display import display, Markdown # Para exibir texto formatado no Colab\n",
        "import requests # Para fazer requisições HTTP\n",
        "import warnings\n",
        "\n",
        "warnings.filterwarnings(\"ignore\")"
      ],
      "metadata": {
        "id": "l6tHklwf0tt8"
      },
      "execution_count": 4,
      "outputs": []
    },
    {
      "cell_type": "code",
      "source": [
        "# Função auxiliar para exibir texto formatado em Markdown no Colab\n",
        "def to_markdown(text):\n",
        "  text = text.replace('•', '  *')\n",
        "  return Markdown(textwrap.indent(text, '> ', predicate=lambda _: True))"
      ],
      "metadata": {
        "id": "ajdqGpKJ0ndj"
      },
      "execution_count": 5,
      "outputs": []
    },
    {
      "cell_type": "code",
      "execution_count": null,
      "metadata": {
        "id": "j6ljqrzulH0E"
      },
      "outputs": [],
      "source": [
        "import ipywidgets as widgets\n",
        "from IPython.display import display, HTML, clear_output, Markdown\n",
        "import google.generativeai as genai\n",
        "import json\n",
        "import re\n",
        "import asyncio\n",
        "import textwrap\n",
        "\n",
        "# Gera o enunciado, alternativas e a resposta correta para uma questão de física.\n",
        "def gerar_enunciado_alternativas_resposta(topico: str, dificuldade: str) -> dict:\n",
        "    model = genai.GenerativeModel(\"gemini-2.0-flash\")\n",
        "    prompt = f\"\"\"\n",
        "    Gere uma questão de física de nível {dificuldade} sobre o tópico de {topico} para estudantes do ensino médio.\n",
        "    A questão deve ser no formato de múltipla escolha com exatamente 4 opções (A, B, C, D).\n",
        "    Indique claramente a resposta correta ao final da geração.\n",
        "\n",
        "    Formato de saída desejado:\n",
        "    {{\n",
        "    \"enunciado\": \"...\",\n",
        "    \"opcoes\": [\"A) ...\", \"B) ...\", \"C) ...\", \"D) ...\"],\n",
        "    \"resposta_correta\": \"...\"\n",
        "    }}\n",
        "    \"\"\"\n",
        "    try:\n",
        "        response = model.generate_content(prompt)\n",
        "        json_string = response.text.strip()\n",
        "        json_string = re.sub(r'^\\s*```json\\s*', '', json_string, flags=re.MULTILINE)\n",
        "        json_string = re.sub(r'^\\s*```\\s*', '', json_string, flags=re.MULTILINE)\n",
        "        questao_info = json.loads(json_string)\n",
        "        return questao_info\n",
        "    except json.JSONDecodeError as e:\n",
        "        print(f\"Erro ao decodificar JSON da resposta: {e}\")\n",
        "        print(f\"Resposta bruta do Gemini: {response.text}\")\n",
        "        return None\n",
        "    except Exception as e:\n",
        "        print(f\"Erro ao gerar o enunciado, alternativas e resposta: {e}\")\n",
        "        return None\n",
        "\n",
        "# Gera a resolução passo a passo para uma questão de física.\n",
        "def gerar_resolucao_estruturada(enunciado: str, resposta_correta: str) -> str:\n",
        "    model = genai.GenerativeModel(\"gemini-2.0-flash\")\n",
        "    prompt = f\"\"\"\n",
        "    Gere uma resolução detalhada e passo a passo para a seguinte questão de física do ensino médio brasileiro.\n",
        "    Organize a resolução em seções claras com títulos como: \"1. Compreensão do Problema\", \"2. Identificação de Dados\", \"3. Fórmula Utilizada\", \"4. Passo a Passo da Solução\", \"5. Resposta Final\".\n",
        "    Seja conciso em cada seção, mas inclua todos os passos essenciais do raciocínio e utilize notação LaTeX para fórmulas e cálculos.\n",
        "\n",
        "    {enunciado}\n",
        "\n",
        "    A resposta correta para esta questão é a opção {resposta_correta}.\n",
        "    \"\"\"\n",
        "    try:\n",
        "        response = model.generate_content(prompt)\n",
        "        resolucao = response.text\n",
        "        resolucao = resolucao.replace(r'\\(', r'$').replace(r'\\)', r'$').replace(r'\\[', r'$$').replace(r'\\]', r'$$')\n",
        "        return resolucao\n",
        "    except Exception as e:\n",
        "        print(f\"Erro ao gerar a resolução: {e}\")\n",
        "        return None\n",
        "\n",
        "dificuldade_dropdown = widgets.Dropdown(options=['Iniciante', 'Intermediário', 'Avançado'], description='Dificuldade:')\n",
        "topico_dropdown = widgets.Dropdown(options=['Cinemática', 'Ondulatória', 'Dinâmica'], description='Tópico:')\n",
        "gerar_questao_button = widgets.Button(description=\"Gerar Questão\")\n",
        "resposta_button = widgets.Button(description=\"Revelar Resposta\")\n",
        "resolucao_button = widgets.Button(description=\"Mostrar Resolução\")\n",
        "output = widgets.Output()\n",
        "\n",
        "# Exibe string Markdown e renderiza MathJax.\n",
        "def display_markdown_with_mathjax(markdown_string: str):\n",
        "    display(HTML(markdown_string))\n",
        "\n",
        "# Lida com o clique do botão de gerar questão.\n",
        "def on_gerar_questao_button_click(b):\n",
        "    clear_output(wait=True)\n",
        "    with output:\n",
        "        display(HTML(\"Gerando questão...\"))\n",
        "        questao = gerar_enunciado_alternativas_resposta(topico_dropdown.value, dificuldade_dropdown.value)\n",
        "        if questao:\n",
        "            global questao_data\n",
        "            questao_data = questao\n",
        "            display_markdown_with_mathjax(f\"Enunciado:<br>{questao['enunciado']}\")\n",
        "            for opcao in questao['opcoes']:\n",
        "                display_markdown_with_mathjax(f\"{opcao}\")\n",
        "            display(resposta_button)\n",
        "        else:\n",
        "            display(HTML(\"Erro ao gerar a questão.\"))\n",
        "\n",
        "# Lida com o clique do botão de revelar resposta.\n",
        "def on_resposta_button_click(b):\n",
        "    clear_output(wait=True)\n",
        "    with output:\n",
        "        display_markdown_with_mathjax(f\"Resposta Correta:<br>{questao_data['resposta_correta']}\")\n",
        "        display(resolucao_button)\n",
        "\n",
        "# Lida com o clique do botão de mostrar resolução.\n",
        "def on_resolucao_button_click(b):\n",
        "    clear_output(wait=True)\n",
        "    with output:\n",
        "        display(HTML(\"Gerando resolução...\"))\n",
        "        resolucao = gerar_resolucao_estruturada(questao_data['enunciado'], questao_data['resposta_correta'])\n",
        "        if resolucao:\n",
        "            display(to_markdown(f\"Resolução:\\n{resolucao}\"))\n",
        "        else:\n",
        "            display(HTML(\"Erro ao gerar a resolução.\"))\n",
        "\n",
        "gerar_questao_button.on_click(on_gerar_questao_button_click)\n",
        "resposta_button.on_click(on_resposta_button_click)\n",
        "resolucao_button.on_click(on_resolucao_button_click)\n",
        "\n",
        "display(dificuldade_dropdown)\n",
        "display(topico_dropdown)\n",
        "display(gerar_questao_button)\n",
        "display(output)"
      ]
    }
  ]
}