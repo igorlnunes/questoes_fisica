{
  "nbformat": 4,
  "nbformat_minor": 0,
  "metadata": {
    "colab": {
      "provenance": []
    },
    "kernelspec": {
      "name": "python3",
      "display_name": "Python 3"
    },
    "language_info": {
      "name": "python"
    }
  },
  "cells": [
    {
      "cell_type": "code",
      "execution_count": 2,
      "metadata": {
        "id": "P9OxWV9FaYZX"
      },
      "outputs": [],
      "source": [
        "!pip -q install google-genai"
      ]
    },
    {
      "cell_type": "code",
      "source": [
        "# Configura a API Key do Google Gemini\n",
        "import os\n",
        "from google.colab import userdata\n",
        "\n",
        "os.environ[\"GOOGLE_API_KEY\"] = userdata.get('GOOGLE_API_KEY')"
      ],
      "metadata": {
        "id": "42GmAyRCbZYf"
      },
      "execution_count": 3,
      "outputs": []
    },
    {
      "cell_type": "code",
      "source": [
        "# Configura o Cliente SDK do Gemini\n",
        "from google import genai\n",
        "client = genai.Client()\n",
        "\n",
        "MODEL_ID = \"gemini-2.0-flash\""
      ],
      "metadata": {
        "id": "tJq_Iocsft5D"
      },
      "execution_count": 4,
      "outputs": []
    },
    {
      "cell_type": "code",
      "source": [
        "# Instala o framework ADK de agentes do Google\n",
        "!pip install -q google-adk\n"
      ],
      "metadata": {
        "id": "FcdTVr_2A1N3",
        "colab": {
          "base_uri": "https://localhost:8080/"
        },
        "outputId": "e54f392c-4db3-44da-93e4-4cfa9127315f"
      },
      "execution_count": 5,
      "outputs": [
        {
          "output_type": "stream",
          "name": "stdout",
          "text": [
            "\u001b[?25l   \u001b[90m━━━━━━━━━━━━━━━━━━━━━━━━━━━━━━━━━━━━━━━━\u001b[0m \u001b[32m0.0/1.2 MB\u001b[0m \u001b[31m?\u001b[0m eta \u001b[36m-:--:--\u001b[0m\r\u001b[2K   \u001b[91m━━━━━━━━━━━━━━\u001b[0m\u001b[91m╸\u001b[0m\u001b[90m━━━━━━━━━━━━━━━━━━━━━━━━━\u001b[0m \u001b[32m0.4/1.2 MB\u001b[0m \u001b[31m13.3 MB/s\u001b[0m eta \u001b[36m0:00:01\u001b[0m\r\u001b[2K   \u001b[90m━━━━━━━━━━━━━━━━━━━━━━━━━━━━━━━━━━━━━━━━\u001b[0m \u001b[32m1.2/1.2 MB\u001b[0m \u001b[31m18.2 MB/s\u001b[0m eta \u001b[36m0:00:00\u001b[0m\n",
            "\u001b[2K   \u001b[90m━━━━━━━━━━━━━━━━━━━━━━━━━━━━━━━━━━━━━━━━\u001b[0m \u001b[32m232.1/232.1 kB\u001b[0m \u001b[31m13.5 MB/s\u001b[0m eta \u001b[36m0:00:00\u001b[0m\n",
            "\u001b[2K   \u001b[90m━━━━━━━━━━━━━━━━━━━━━━━━━━━━━━━━━━━━━━━━\u001b[0m \u001b[32m95.2/95.2 kB\u001b[0m \u001b[31m5.6 MB/s\u001b[0m eta \u001b[36m0:00:00\u001b[0m\n",
            "\u001b[2K   \u001b[90m━━━━━━━━━━━━━━━━━━━━━━━━━━━━━━━━━━━━━━━━\u001b[0m \u001b[32m217.1/217.1 kB\u001b[0m \u001b[31m12.4 MB/s\u001b[0m eta \u001b[36m0:00:00\u001b[0m\n",
            "\u001b[2K   \u001b[90m━━━━━━━━━━━━━━━━━━━━━━━━━━━━━━━━━━━━━━━━\u001b[0m \u001b[32m334.1/334.1 kB\u001b[0m \u001b[31m20.0 MB/s\u001b[0m eta \u001b[36m0:00:00\u001b[0m\n",
            "\u001b[2K   \u001b[90m━━━━━━━━━━━━━━━━━━━━━━━━━━━━━━━━━━━━━━━━\u001b[0m \u001b[32m125.1/125.1 kB\u001b[0m \u001b[31m6.6 MB/s\u001b[0m eta \u001b[36m0:00:00\u001b[0m\n",
            "\u001b[2K   \u001b[90m━━━━━━━━━━━━━━━━━━━━━━━━━━━━━━━━━━━━━━━━\u001b[0m \u001b[32m65.8/65.8 kB\u001b[0m \u001b[31m3.5 MB/s\u001b[0m eta \u001b[36m0:00:00\u001b[0m\n",
            "\u001b[2K   \u001b[90m━━━━━━━━━━━━━━━━━━━━━━━━━━━━━━━━━━━━━━━━\u001b[0m \u001b[32m119.0/119.0 kB\u001b[0m \u001b[31m6.9 MB/s\u001b[0m eta \u001b[36m0:00:00\u001b[0m\n",
            "\u001b[2K   \u001b[90m━━━━━━━━━━━━━━━━━━━━━━━━━━━━━━━━━━━━━━━━\u001b[0m \u001b[32m194.9/194.9 kB\u001b[0m \u001b[31m12.3 MB/s\u001b[0m eta \u001b[36m0:00:00\u001b[0m\n",
            "\u001b[2K   \u001b[90m━━━━━━━━━━━━━━━━━━━━━━━━━━━━━━━━━━━━━━━━\u001b[0m \u001b[32m62.5/62.5 kB\u001b[0m \u001b[31m4.0 MB/s\u001b[0m eta \u001b[36m0:00:00\u001b[0m\n",
            "\u001b[2K   \u001b[90m━━━━━━━━━━━━━━━━━━━━━━━━━━━━━━━━━━━━━━━━\u001b[0m \u001b[32m103.3/103.3 kB\u001b[0m \u001b[31m6.8 MB/s\u001b[0m eta \u001b[36m0:00:00\u001b[0m\n",
            "\u001b[2K   \u001b[90m━━━━━━━━━━━━━━━━━━━━━━━━━━━━━━━━━━━━━━━━\u001b[0m \u001b[32m44.4/44.4 kB\u001b[0m \u001b[31m2.6 MB/s\u001b[0m eta \u001b[36m0:00:00\u001b[0m\n",
            "\u001b[2K   \u001b[90m━━━━━━━━━━━━━━━━━━━━━━━━━━━━━━━━━━━━━━━━\u001b[0m \u001b[32m72.0/72.0 kB\u001b[0m \u001b[31m4.4 MB/s\u001b[0m eta \u001b[36m0:00:00\u001b[0m\n",
            "\u001b[?25h"
          ]
        }
      ]
    },
    {
      "cell_type": "code",
      "execution_count": 6,
      "metadata": {
        "id": "aePV2bdfDeoW"
      },
      "outputs": [],
      "source": [
        "# importa as bibliotecas do adk\n",
        "from google.adk.agents import Agent\n",
        "from google.adk.runners import Runner\n",
        "from google.adk.sessions import InMemorySessionService\n",
        "from google.adk.tools import google_search\n",
        "from google.genai import types  # Para criar conteúdos (Content e Part)\n",
        "from datetime import date\n",
        "import textwrap # Para formatar melhor a saída de texto\n",
        "from IPython.display import display, Markdown # Para exibir texto formatado no Colab\n",
        "import requests # Para fazer requisições HTTP\n",
        "import warnings\n",
        "\n",
        "warnings.filterwarnings(\"ignore\")"
      ]
    },
    {
      "cell_type": "code",
      "source": [
        "# Função para enviar uma mensagem para um agente via Runner e retorna a resposta final\n",
        "def call_agent(agent: Agent, message_text: str) -> str:\n",
        "  # Cria um serviço de sessão em memória\n",
        "  session_service = InMemorySessionService()\n",
        "  # Cria uma nova sessão (você pode personalizar os IDs conforme necessário)\n",
        "  session = session_service.create_session(app_name=agent.name, user_id=\"user1\", session_id=\"session1\")\n",
        "  # Cria um runner com a sessão e o agente\n",
        "  runner = Runner(agent=agent, app_name=agent.name, session_service=session_service)\n",
        "  #Cria o conteúdo da mensagem da entrada\n",
        "  content = types.Content(\n",
        "      role=\"user\",\n",
        "      parts=[types.Part(text=message_text)]\n",
        "  )\n",
        "  final_response = \"\"\n",
        "  #Itera assicronamente eplos eventos retornados durante a execução do agente\n",
        "  for event in runner.run(user_id=\"user1\", session_id=\"session1\", new_message=content):\n",
        "        if event.is_final_response():\n",
        "          for part in event.content.parts:\n",
        "            if part.text is not None:\n",
        "              final_response += part.text\n",
        "              final_response += \"\\n\"\n",
        "        return final_response"
      ],
      "metadata": {
        "id": "-XwsZ9z5B301"
      },
      "execution_count": 7,
      "outputs": []
    },
    {
      "cell_type": "code",
      "source": [
        "# Função auxiliar para exibir texto formatado em Markdown no Colab\n",
        "def to_markdown(text):\n",
        "  text = text.replace('•', '  *')\n",
        "  return Markdown(textwrap.indent(text, '> ', predicate=lambda _: True))"
      ],
      "metadata": {
        "id": "PP89UnsmDNGE"
      },
      "execution_count": 8,
      "outputs": []
    },
    {
      "cell_type": "code",
      "source": [
        "import google.generativeai as genai\n",
        "import json\n",
        "import re\n",
        "\n",
        "\n",
        "def gerar_enunciado_alternativas_resposta(topico, dificuldade):\n",
        "    \"\"\"\n",
        "    Gera o enunciado de uma questão de física de múltipla escolha,\n",
        "    as alternativas (A, B, C, D) e a resposta correta usando o Gemini.\n",
        "\n",
        "    Args:\n",
        "        topico (str): O tópico da física.\n",
        "        dificuldade (str): O nível de dificuldade.\n",
        "\n",
        "    Returns:\n",
        "        dict: Um dicionário contendo o enunciado, as opções e a resposta correta.\n",
        "              Retorna None em caso de erro.\n",
        "    \"\"\"\n",
        "    model = genai.GenerativeModel(\"gemini-2.0-flash\")\n",
        "\n",
        "    prompt = f\"\"\"\n",
        "    Gere uma questão de física de nível {dificuldade} sobre o tópico de {topico} para estudantes do ensino médio.\n",
        "    A questão deve ser no formato de múltipla escolha com exatamente 4 opções (A, B, C, D).\n",
        "    Indique claramente a resposta correta ao final da geração.\n",
        "\n",
        "    Formato de saída desejado:\n",
        "    {{\n",
        "      \"enunciado\": \"...\",\n",
        "      \"opcoes\": [\"A) ...\", \"B) ...\", \"C) ...\", \"D) ...\"],\n",
        "      \"resposta_correta\": \"...\"\n",
        "    }}\n",
        "    \"\"\"\n",
        "\n",
        "    try:\n",
        "        response = model.generate_content(prompt)\n",
        "        # Remover o bloco ```json e garantir que não há espaços extras no início\n",
        "        json_string = response.text.strip()\n",
        "        json_string = re.sub(r'^\\s*```json\\s*', '', json_string, flags=re.MULTILINE)  # Remove ```json no início\n",
        "        json_string = re.sub(r'^\\s*```\\s*', '', json_string, flags=re.MULTILINE) # Remove ``` no final\n",
        "        questao_info = json.loads(json_string)\n",
        "        return questao_info\n",
        "    except json.JSONDecodeError as e:\n",
        "        print(f\"Erro ao decodificar JSON da resposta: {e}\")\n",
        "        print(f\"Resposta bruta do Gemini: {response.text}\")\n",
        "        return None\n",
        "    except Exception as e:\n",
        "        print(f\"Erro ao gerar o enunciado, alternativas e resposta: {e}\")\n",
        "        return None"
      ],
      "metadata": {
        "colab": {
          "base_uri": "https://localhost:8080/"
        },
        "collapsed": true,
        "id": "FYPCPWFeDT4S",
        "outputId": "53c6e74f-d2d1-4df9-bd5e-b87cdffc7af1"
      },
      "execution_count": 20,
      "outputs": [
        {
          "output_type": "stream",
          "name": "stdout",
          "text": [
            "Um carro parte do repouso e acelera uniformemente a uma taxa de 2 m/s² durante 5 segundos. Qual a velocidade final do carro após esse período?\n",
            "Dados da Questão Gerados:\n",
            "Enunciado: Um carro parte do repouso e acelera uniformemente a uma taxa de 2 m/s² durante 5 segundos. Qual a velocidade final do carro após esse período?\n",
            "Opções: ['A) 2.5 m/s', 'B) 5 m/s', 'C) 10 m/s', 'D) 25 m/s']\n",
            "Resposta Correta: C\n"
          ]
        }
      ]
    },
    {
      "cell_type": "code",
      "source": [
        "def gerar_resolucao(enunciado, resposta_correta):\n",
        "    \"\"\"\n",
        "    Gera a resolução detalhada para a resposta correta de uma questão de física\n",
        "    usando o Gemini.\n",
        "\n",
        "    Args:\n",
        "        enunciado (str): O enunciado da questão.\n",
        "        resposta_correta (str): A letra da opção correta (ex: \"A\", \"B\", \"C\", \"D\").\n",
        "\n",
        "    Returns:\n",
        "        str: A resolução detalhada da questão em formato de texto com LaTeX.\n",
        "             Retorna None em caso de erro.\n",
        "    \"\"\"\n",
        "    model = genai.GenerativeModel(\"gemini-2.0-flash\")\n",
        "\n",
        "    prompt = f\"\"\"\n",
        "    Gere a resolução detalhada e passo a passo para a seguinte questão de física do ensino médio brasileiro:\n",
        "\n",
        "    {enunciado}\n",
        "\n",
        "    A resposta correta para esta questão é a opção {resposta_correta}.\n",
        "    Inclua todos os passos do raciocínio e utilize notação LaTeX para fórmulas e cálculos.\n",
        "    \"\"\"\n",
        "\n",
        "    try:\n",
        "        response = model.generate_content(prompt)\n",
        "        return response.text\n",
        "    except Exception as e:\n",
        "        print(f\"Erro ao gerar a resolução: {e}\")\n",
        "        return None\n",
        "\n",
        "# Exemplo de uso da segunda função (depende da saída da primeira):\n",
        "if __name__ == \"__main__\":\n",
        "    questao_data = gerar_enunciado_alternativas_resposta(\"Ondulatória\", \"Intermediário\")\n",
        "    print(questao_data[\"resposta_correta\"])\n",
        "    if questao_data:\n",
        "        resolucao = gerar_resolucao(questao_data['enunciado'], questao_data['resposta_correta'])\n",
        "        if resolucao:\n",
        "            print(\"\\nResolução da Questão:\")\n",
        "            print(resolucao)"
      ],
      "metadata": {
        "colab": {
          "base_uri": "https://localhost:8080/"
        },
        "id": "vdhbNBiYHhEp",
        "outputId": "1db26c67-0997-4350-f0e1-b30b7b342d58"
      },
      "execution_count": 21,
      "outputs": [
        {
          "output_type": "stream",
          "name": "stdout",
          "text": [
            "Uma onda sonora senoidal de frequência 440 Hz propaga-se no ar com uma velocidade de 340 m/s. Se a frequência da onda for dobrada, mantendo-se o mesmo meio de propagação (ar), o que acontecerá com o comprimento de onda?\n",
            "C\n",
            "\n",
            "Resolução da Questão:\n",
            "## Resolução Detalhada: Comprimento de Onda e Frequência\n",
            "\n",
            "**Problema:** Uma onda sonora senoidal de frequência 440 Hz propaga-se no ar com uma velocidade de 340 m/s. Se a frequência da onda for dobrada, mantendo-se o mesmo meio de propagação (ar), o que acontecerá com o comprimento de onda?\n",
            "\n",
            "**Solução:**\n",
            "\n",
            "1. **Entendimento da Relação Fundamental:**\n",
            "\n",
            "A relação entre a velocidade da onda ($v$), o comprimento de onda ($\\lambda$) e a frequência ($f$) é dada por:\n",
            "\n",
            "   $v = \\lambda \\cdot f$\n",
            "\n",
            "   Onde:\n",
            "\n",
            "   *  $v$ = velocidade da onda (m/s)\n",
            "   *  $\\lambda$ = comprimento de onda (m)\n",
            "   *  $f$ = frequência (Hz)\n",
            "\n",
            "2. **Análise da Situação Inicial:**\n",
            "\n",
            "Na situação inicial, temos:\n",
            "\n",
            "   *  $f_1 = 440 \\text{ Hz}$\n",
            "   *  $v = 340 \\text{ m/s}$\n",
            "\n",
            "   Podemos calcular o comprimento de onda inicial ($\\lambda_1$) usando a fórmula:\n",
            "\n",
            "   $\\lambda_1 = \\frac{v}{f_1} = \\frac{340 \\text{ m/s}}{440 \\text{ Hz}}$\n",
            "\n",
            "3. **Análise da Situação Final:**\n",
            "\n",
            "Na situação final, a frequência é dobrada, então:\n",
            "\n",
            "   *  $f_2 = 2 \\cdot f_1 = 2 \\cdot 440 \\text{ Hz} = 880 \\text{ Hz}$\n",
            "   *  A velocidade da onda *não* se altera, pois o meio de propagação (ar) permanece o mesmo. Portanto, $v = 340 \\text{ m/s}$.\n",
            "\n",
            "   Agora, vamos calcular o novo comprimento de onda ($\\lambda_2$):\n",
            "\n",
            "   $\\lambda_2 = \\frac{v}{f_2} = \\frac{340 \\text{ m/s}}{880 \\text{ Hz}}$\n",
            "\n",
            "4. **Comparação dos Comprimentos de Onda:**\n",
            "\n",
            "Queremos saber a relação entre $\\lambda_2$ e $\\lambda_1$. Vamos calcular a razão $\\frac{\\lambda_2}{\\lambda_1}$:\n",
            "\n",
            "   $\\frac{\\lambda_2}{\\lambda_1} = \\frac{\\frac{v}{f_2}}{\\frac{v}{f_1}} = \\frac{v}{f_2} \\cdot \\frac{f_1}{v}$\n",
            "\n",
            "   Como a velocidade $v$ é a mesma em ambas as situações, ela se cancela:\n",
            "\n",
            "   $\\frac{\\lambda_2}{\\lambda_1} = \\frac{f_1}{f_2}$\n",
            "\n",
            "   Substituímos $f_2$ por $2f_1$:\n",
            "\n",
            "   $\\frac{\\lambda_2}{\\lambda_1} = \\frac{f_1}{2f_1} = \\frac{1}{2}$\n",
            "\n",
            "   Isso significa que $\\lambda_2 = \\frac{1}{2} \\lambda_1$.\n",
            "\n",
            "5. **Conclusão:**\n",
            "\n",
            "Quando a frequência é dobrada, o comprimento de onda se reduz à metade.  Portanto, o comprimento de onda é reduzido à metade (ou dividido por 2). Isso corresponde à opção C.\n",
            "\n",
            "**Resposta:**\n",
            "\n",
            "O comprimento de onda é reduzido à metade.\n",
            "\n"
          ]
        }
      ]
    },
    {
      "cell_type": "code",
      "source": [
        "!pip install flask-cors"
      ],
      "metadata": {
        "colab": {
          "base_uri": "https://localhost:8080/"
        },
        "id": "VmiG1l6tQlES",
        "outputId": "3ceb844c-075d-4c92-d1ee-2522f14ef90b"
      },
      "execution_count": 23,
      "outputs": [
        {
          "output_type": "stream",
          "name": "stdout",
          "text": [
            "Collecting flask-cors\n",
            "  Downloading flask_cors-6.0.0-py3-none-any.whl.metadata (961 bytes)\n",
            "Requirement already satisfied: flask>=0.9 in /usr/local/lib/python3.11/dist-packages (from flask-cors) (3.1.1)\n",
            "Requirement already satisfied: Werkzeug>=0.7 in /usr/local/lib/python3.11/dist-packages (from flask-cors) (3.1.3)\n",
            "Requirement already satisfied: blinker>=1.9.0 in /usr/local/lib/python3.11/dist-packages (from flask>=0.9->flask-cors) (1.9.0)\n",
            "Requirement already satisfied: click>=8.1.3 in /usr/local/lib/python3.11/dist-packages (from flask>=0.9->flask-cors) (8.2.0)\n",
            "Requirement already satisfied: itsdangerous>=2.2.0 in /usr/local/lib/python3.11/dist-packages (from flask>=0.9->flask-cors) (2.2.0)\n",
            "Requirement already satisfied: jinja2>=3.1.2 in /usr/local/lib/python3.11/dist-packages (from flask>=0.9->flask-cors) (3.1.6)\n",
            "Requirement already satisfied: markupsafe>=2.1.1 in /usr/local/lib/python3.11/dist-packages (from flask>=0.9->flask-cors) (3.0.2)\n",
            "Downloading flask_cors-6.0.0-py3-none-any.whl (11 kB)\n",
            "Installing collected packages: flask-cors\n",
            "Successfully installed flask-cors-6.0.0\n"
          ]
        }
      ]
    },
    {
      "cell_type": "code",
      "source": [
        "from flask import Flask, request, jsonify\n",
        "from flask_cors import CORS\n",
        "import google.generativeai as genai\n",
        "from google.ai.generativelanguage import ToolConfig, Content\n",
        "import json\n",
        "import re\n",
        "\n",
        "def gerar_enunciado_alternativas_resposta_tool(topico: str, dificuldade: str):\n",
        "    # ... (seu código da função gerar_enunciado_alternativas_resposta_tool) ...\n",
        "    pass\n",
        "\n",
        "def gerar_resolucao_tool(enunciado: str, resposta_correta: str):\n",
        "    # ... (seu código da função gerar_resolucao_tool) ...\n",
        "    pass\n",
        "\n",
        "tools = [\n",
        "    # ... (sua definição de ferramentas) ...\n",
        "]\n",
        "tool_configs = [ToolConfig(name=tool[\"name\"]) for tool in tools]\n",
        "agent_instructions = \"\"\" ... \"\"\"\n",
        "\n",
        "def obter_questao_e_resolucao(topico, dificuldade):\n",
        "    # ... (seu código da função obter_questao_e_resolucao) ...\n",
        "    pass\n",
        "\n",
        "app = Flask(__name__)\n",
        "CORS(app)\n",
        "\n",
        "@app.route('/gerar_exercicio', methods=['POST'])\n",
        "def gerar_exercicio():\n",
        "    data = request.get_json()\n",
        "    dificuldade = data.get('dificuldade')\n",
        "    topico = data.get('topico')\n",
        "\n",
        "    if not dificuldade or not topico:\n",
        "        return jsonify({'error': 'Dificuldade e tópico são obrigatórios'}), 400\n",
        "\n",
        "    resultado = obter_questao_e_resolucao(topico, dificuldade)\n",
        "    return jsonify(resultado)\n",
        "\n",
        "if __name__ == '__main__':\n",
        "    app.run(debug=True, host='0.0.0.0', port=5000)"
      ],
      "metadata": {
        "colab": {
          "base_uri": "https://localhost:8080/"
        },
        "id": "_6Y1hU_lQMbS",
        "outputId": "e4f9829c-29ad-4d84-a3cf-8012c1e8d332"
      },
      "execution_count": null,
      "outputs": [
        {
          "output_type": "stream",
          "name": "stdout",
          "text": [
            " * Serving Flask app '__main__'\n",
            " * Debug mode: on\n"
          ]
        },
        {
          "output_type": "stream",
          "name": "stderr",
          "text": [
            "INFO:werkzeug:\u001b[31m\u001b[1mWARNING: This is a development server. Do not use it in a production deployment. Use a production WSGI server instead.\u001b[0m\n",
            " * Running on all addresses (0.0.0.0)\n",
            " * Running on http://127.0.0.1:5000\n",
            " * Running on http://172.28.0.12:5000\n",
            "INFO:werkzeug:\u001b[33mPress CTRL+C to quit\u001b[0m\n",
            "INFO:werkzeug: * Restarting with stat\n"
          ]
        }
      ]
    }
  ]
}